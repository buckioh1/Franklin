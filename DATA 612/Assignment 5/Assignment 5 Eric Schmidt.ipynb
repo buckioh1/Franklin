{
 "cells": [
  {
   "cell_type": "markdown",
   "id": "bibliographic-peter",
   "metadata": {},
   "source": [
    "# Eric Schmidt\n",
    "\n",
    "## Assignment 5\n",
    "\n",
    "## DATA 612: Data Mining\n",
    "\n",
    "## Dr. AbdelRahman"
   ]
  },
  {
   "cell_type": "markdown",
   "id": "relative-direction",
   "metadata": {},
   "source": [
    "# 1. Work on your selected data set and covert a column of non-categorical type into a categorical type."
   ]
  },
  {
   "cell_type": "markdown",
   "id": "general-startup",
   "metadata": {},
   "source": [
    "I chose to select the `State_Drug_Utilization_Data_2010` dataset for this assignment."
   ]
  },
  {
   "cell_type": "code",
   "execution_count": 1,
   "id": "medieval-equilibrium",
   "metadata": {},
   "outputs": [
    {
     "data": {
      "text/html": [
       "<div>\n",
       "<style scoped>\n",
       "    .dataframe tbody tr th:only-of-type {\n",
       "        vertical-align: middle;\n",
       "    }\n",
       "\n",
       "    .dataframe tbody tr th {\n",
       "        vertical-align: top;\n",
       "    }\n",
       "\n",
       "    .dataframe thead th {\n",
       "        text-align: right;\n",
       "    }\n",
       "</style>\n",
       "<table border=\"1\" class=\"dataframe\">\n",
       "  <thead>\n",
       "    <tr style=\"text-align: right;\">\n",
       "      <th></th>\n",
       "      <th>Unnamed: 0</th>\n",
       "      <th>Utilization Type</th>\n",
       "      <th>State</th>\n",
       "      <th>Labeler Code</th>\n",
       "      <th>Product Code</th>\n",
       "      <th>Package Size</th>\n",
       "      <th>Year</th>\n",
       "      <th>Quarter</th>\n",
       "      <th>Product Name</th>\n",
       "      <th>Units Reimbursed</th>\n",
       "      <th>...</th>\n",
       "      <th>Number of Prescriptions</th>\n",
       "      <th>Total Amount Reimbursed</th>\n",
       "      <th>Medicaid Amount Reimbursed</th>\n",
       "      <th>Non Medicaid Amount Reimbursed</th>\n",
       "      <th>Quarter Begin</th>\n",
       "      <th>Quarter Begin Date</th>\n",
       "      <th>Latitude</th>\n",
       "      <th>Longitude</th>\n",
       "      <th>Location</th>\n",
       "      <th>NDC</th>\n",
       "    </tr>\n",
       "  </thead>\n",
       "  <tbody>\n",
       "    <tr>\n",
       "      <th>0</th>\n",
       "      <td>128037</td>\n",
       "      <td>MCOU</td>\n",
       "      <td>MA</td>\n",
       "      <td>37205</td>\n",
       "      <td>137</td>\n",
       "      <td>5</td>\n",
       "      <td>2010</td>\n",
       "      <td>4</td>\n",
       "      <td>ARTIFICIAL</td>\n",
       "      <td>15.000</td>\n",
       "      <td>...</td>\n",
       "      <td>1</td>\n",
       "      <td>4.08</td>\n",
       "      <td>4.08</td>\n",
       "      <td>0.0</td>\n",
       "      <td>10/1</td>\n",
       "      <td>10/01/2010</td>\n",
       "      <td>31.1801</td>\n",
       "      <td>-91.8749</td>\n",
       "      <td>(31.1801, -91.8749)</td>\n",
       "      <td>37205013705</td>\n",
       "    </tr>\n",
       "    <tr>\n",
       "      <th>1</th>\n",
       "      <td>491755</td>\n",
       "      <td>FFSU</td>\n",
       "      <td>FL</td>\n",
       "      <td>62756</td>\n",
       "      <td>763</td>\n",
       "      <td>88</td>\n",
       "      <td>2010</td>\n",
       "      <td>1</td>\n",
       "      <td>TORSEMIDE</td>\n",
       "      <td>255.000</td>\n",
       "      <td>...</td>\n",
       "      <td>8</td>\n",
       "      <td>103.33</td>\n",
       "      <td>103.33</td>\n",
       "      <td>0.0</td>\n",
       "      <td>1/1</td>\n",
       "      <td>01/01/2010</td>\n",
       "      <td>39.3498</td>\n",
       "      <td>-75.5148</td>\n",
       "      <td>(39.3498, -75.5148)</td>\n",
       "      <td>62756076388</td>\n",
       "    </tr>\n",
       "    <tr>\n",
       "      <th>2</th>\n",
       "      <td>2568076</td>\n",
       "      <td>FFSU</td>\n",
       "      <td>UT</td>\n",
       "      <td>46987</td>\n",
       "      <td>323</td>\n",
       "      <td>11</td>\n",
       "      <td>2010</td>\n",
       "      <td>2</td>\n",
       "      <td>Kadian Ora</td>\n",
       "      <td>120.000</td>\n",
       "      <td>...</td>\n",
       "      <td>2</td>\n",
       "      <td>905.24</td>\n",
       "      <td>905.24</td>\n",
       "      <td>0.0</td>\n",
       "      <td>4/1</td>\n",
       "      <td>04/01/2010</td>\n",
       "      <td>44.2853</td>\n",
       "      <td>-99.4632</td>\n",
       "      <td>(44.2853, -99.4632)</td>\n",
       "      <td>46987032311</td>\n",
       "    </tr>\n",
       "    <tr>\n",
       "      <th>3</th>\n",
       "      <td>491263</td>\n",
       "      <td>FFSU</td>\n",
       "      <td>MN</td>\n",
       "      <td>781</td>\n",
       "      <td>5185</td>\n",
       "      <td>1</td>\n",
       "      <td>2010</td>\n",
       "      <td>4</td>\n",
       "      <td>LEVOTHYROX</td>\n",
       "      <td>1114.000</td>\n",
       "      <td>...</td>\n",
       "      <td>34</td>\n",
       "      <td>312.22</td>\n",
       "      <td>306.22</td>\n",
       "      <td>6.0</td>\n",
       "      <td>10/1</td>\n",
       "      <td>10/01/2010</td>\n",
       "      <td>43.3504</td>\n",
       "      <td>-84.5603</td>\n",
       "      <td>(43.3504, -84.5603)</td>\n",
       "      <td>781518501</td>\n",
       "    </tr>\n",
       "    <tr>\n",
       "      <th>4</th>\n",
       "      <td>836489</td>\n",
       "      <td>FFSU</td>\n",
       "      <td>XX</td>\n",
       "      <td>51552</td>\n",
       "      <td>809</td>\n",
       "      <td>6</td>\n",
       "      <td>2010</td>\n",
       "      <td>2</td>\n",
       "      <td>COLD CREAM</td>\n",
       "      <td>226.089</td>\n",
       "      <td>...</td>\n",
       "      <td>7</td>\n",
       "      <td>52.87</td>\n",
       "      <td>52.87</td>\n",
       "      <td>0.0</td>\n",
       "      <td>4/1</td>\n",
       "      <td>04/01/2010</td>\n",
       "      <td>NaN</td>\n",
       "      <td>NaN</td>\n",
       "      <td>NaN</td>\n",
       "      <td>51552080906</td>\n",
       "    </tr>\n",
       "  </tbody>\n",
       "</table>\n",
       "<p>5 rows × 21 columns</p>\n",
       "</div>"
      ],
      "text/plain": [
       "   Unnamed: 0 Utilization Type State  Labeler Code  Product Code  \\\n",
       "0      128037             MCOU    MA         37205           137   \n",
       "1      491755             FFSU    FL         62756           763   \n",
       "2     2568076             FFSU    UT         46987           323   \n",
       "3      491263             FFSU    MN           781          5185   \n",
       "4      836489             FFSU    XX         51552           809   \n",
       "\n",
       "   Package Size  Year  Quarter Product Name  Units Reimbursed  ...  \\\n",
       "0             5  2010        4   ARTIFICIAL            15.000  ...   \n",
       "1            88  2010        1    TORSEMIDE           255.000  ...   \n",
       "2            11  2010        2   Kadian Ora           120.000  ...   \n",
       "3             1  2010        4   LEVOTHYROX          1114.000  ...   \n",
       "4             6  2010        2   COLD CREAM           226.089  ...   \n",
       "\n",
       "   Number of Prescriptions  Total Amount Reimbursed  \\\n",
       "0                        1                     4.08   \n",
       "1                        8                   103.33   \n",
       "2                        2                   905.24   \n",
       "3                       34                   312.22   \n",
       "4                        7                    52.87   \n",
       "\n",
       "   Medicaid Amount Reimbursed  Non Medicaid Amount Reimbursed  Quarter Begin  \\\n",
       "0                        4.08                             0.0           10/1   \n",
       "1                      103.33                             0.0            1/1   \n",
       "2                      905.24                             0.0            4/1   \n",
       "3                      306.22                             6.0           10/1   \n",
       "4                       52.87                             0.0            4/1   \n",
       "\n",
       "  Quarter Begin Date Latitude  Longitude             Location          NDC  \n",
       "0         10/01/2010  31.1801   -91.8749  (31.1801, -91.8749)  37205013705  \n",
       "1         01/01/2010  39.3498   -75.5148  (39.3498, -75.5148)  62756076388  \n",
       "2         04/01/2010  44.2853   -99.4632  (44.2853, -99.4632)  46987032311  \n",
       "3         10/01/2010  43.3504   -84.5603  (43.3504, -84.5603)    781518501  \n",
       "4         04/01/2010      NaN        NaN                  NaN  51552080906  \n",
       "\n",
       "[5 rows x 21 columns]"
      ]
     },
     "execution_count": 1,
     "metadata": {},
     "output_type": "execute_result"
    }
   ],
   "source": [
    "import pandas as pd\n",
    "\n",
    "df = pd.read_csv('https://raw.githubusercontent.com/buckioh1/data_612/master/State_Drug_Utilization_Data_2010/State_Drug_Utilization_Data_2010.csv')\n",
    "df.head()"
   ]
  },
  {
   "cell_type": "code",
   "execution_count": 2,
   "id": "direct-extreme",
   "metadata": {},
   "outputs": [
    {
     "name": "stdout",
     "output_type": "stream",
     "text": [
      "<class 'pandas.core.frame.DataFrame'>\n",
      "RangeIndex: 156220 entries, 0 to 156219\n",
      "Data columns (total 21 columns):\n",
      " #   Column                          Non-Null Count   Dtype  \n",
      "---  ------                          --------------   -----  \n",
      " 0   Unnamed: 0                      156220 non-null  int64  \n",
      " 1   Utilization Type                156220 non-null  object \n",
      " 2   State                           156220 non-null  object \n",
      " 3   Labeler Code                    156220 non-null  int64  \n",
      " 4   Product Code                    156220 non-null  int64  \n",
      " 5   Package Size                    156220 non-null  int64  \n",
      " 6   Year                            156220 non-null  int64  \n",
      " 7   Quarter                         156220 non-null  int64  \n",
      " 8   Product Name                    156166 non-null  object \n",
      " 9   Units Reimbursed                156220 non-null  float64\n",
      " 10  Suppression Used                156220 non-null  bool   \n",
      " 11  Number of Prescriptions         156220 non-null  int64  \n",
      " 12  Total Amount Reimbursed         156220 non-null  float64\n",
      " 13  Medicaid Amount Reimbursed      156220 non-null  float64\n",
      " 14  Non Medicaid Amount Reimbursed  156220 non-null  float64\n",
      " 15  Quarter Begin                   156220 non-null  object \n",
      " 16  Quarter Begin Date              156220 non-null  object \n",
      " 17  Latitude                        145416 non-null  float64\n",
      " 18  Longitude                       145416 non-null  float64\n",
      " 19  Location                        145416 non-null  object \n",
      " 20  NDC                             156220 non-null  int64  \n",
      "dtypes: bool(1), float64(6), int64(8), object(6)\n",
      "memory usage: 24.0+ MB\n"
     ]
    }
   ],
   "source": [
    "df.info()"
   ]
  },
  {
   "cell_type": "markdown",
   "id": "stunning-affair",
   "metadata": {},
   "source": [
    "As can be seen from the above output, `Utilization Type` and `State` columns are object (string) data types. I will convert this non-categorical type into a categorical type."
   ]
  },
  {
   "cell_type": "code",
   "execution_count": 6,
   "id": "french-repeat",
   "metadata": {},
   "outputs": [
    {
     "name": "stdout",
     "output_type": "stream",
     "text": [
      "<class 'pandas.core.frame.DataFrame'>\n",
      "RangeIndex: 156220 entries, 0 to 156219\n",
      "Data columns (total 21 columns):\n",
      " #   Column                          Non-Null Count   Dtype   \n",
      "---  ------                          --------------   -----   \n",
      " 0   Unnamed: 0                      156220 non-null  int64   \n",
      " 1   Utilization Type                156220 non-null  category\n",
      " 2   State                           156220 non-null  category\n",
      " 3   Labeler Code                    156220 non-null  object  \n",
      " 4   Product Code                    156220 non-null  object  \n",
      " 5   Package Size                    156220 non-null  int64   \n",
      " 6   Year                            156220 non-null  int64   \n",
      " 7   Quarter                         156220 non-null  int64   \n",
      " 8   Product Name                    156166 non-null  object  \n",
      " 9   Units Reimbursed                156220 non-null  float64 \n",
      " 10  Suppression Used                156220 non-null  bool    \n",
      " 11  Number of Prescriptions         156220 non-null  int64   \n",
      " 12  Total Amount Reimbursed         156220 non-null  float64 \n",
      " 13  Medicaid Amount Reimbursed      156220 non-null  float64 \n",
      " 14  Non Medicaid Amount Reimbursed  156220 non-null  float64 \n",
      " 15  Quarter Begin                   156220 non-null  object  \n",
      " 16  Quarter Begin Date              156220 non-null  object  \n",
      " 17  Latitude                        145416 non-null  float64 \n",
      " 18  Longitude                       145416 non-null  float64 \n",
      " 19  Location                        145416 non-null  object  \n",
      " 20  NDC                             156220 non-null  int64   \n",
      "dtypes: bool(1), category(2), float64(6), int64(6), object(6)\n",
      "memory usage: 21.9+ MB\n"
     ]
    }
   ],
   "source": [
    "df[['Utilization Type', 'State']] = df[['Utilization Type', 'State']].astype('category')\n",
    "df.info()"
   ]
  },
  {
   "cell_type": "markdown",
   "id": "atmospheric-consumption",
   "metadata": {},
   "source": [
    "As can be seen above, the `data types` for both `Utilization Type` and `State` have been changed to `category`."
   ]
  },
  {
   "cell_type": "markdown",
   "id": "relative-messaging",
   "metadata": {},
   "source": [
    "# 2. Convert another column into a string type."
   ]
  },
  {
   "cell_type": "markdown",
   "id": "casual-georgia",
   "metadata": {},
   "source": [
    "In this section we'll changed `Labeler Code` and `Product Code` into a `str` type."
   ]
  },
  {
   "cell_type": "code",
   "execution_count": 7,
   "id": "uniform-pursuit",
   "metadata": {},
   "outputs": [
    {
     "name": "stdout",
     "output_type": "stream",
     "text": [
      "<class 'pandas.core.frame.DataFrame'>\n",
      "RangeIndex: 156220 entries, 0 to 156219\n",
      "Data columns (total 21 columns):\n",
      " #   Column                          Non-Null Count   Dtype   \n",
      "---  ------                          --------------   -----   \n",
      " 0   Unnamed: 0                      156220 non-null  int64   \n",
      " 1   Utilization Type                156220 non-null  category\n",
      " 2   State                           156220 non-null  category\n",
      " 3   Labeler Code                    156220 non-null  object  \n",
      " 4   Product Code                    156220 non-null  object  \n",
      " 5   Package Size                    156220 non-null  int64   \n",
      " 6   Year                            156220 non-null  int64   \n",
      " 7   Quarter                         156220 non-null  int64   \n",
      " 8   Product Name                    156166 non-null  object  \n",
      " 9   Units Reimbursed                156220 non-null  float64 \n",
      " 10  Suppression Used                156220 non-null  bool    \n",
      " 11  Number of Prescriptions         156220 non-null  int64   \n",
      " 12  Total Amount Reimbursed         156220 non-null  float64 \n",
      " 13  Medicaid Amount Reimbursed      156220 non-null  float64 \n",
      " 14  Non Medicaid Amount Reimbursed  156220 non-null  float64 \n",
      " 15  Quarter Begin                   156220 non-null  object  \n",
      " 16  Quarter Begin Date              156220 non-null  object  \n",
      " 17  Latitude                        145416 non-null  float64 \n",
      " 18  Longitude                       145416 non-null  float64 \n",
      " 19  Location                        145416 non-null  object  \n",
      " 20  NDC                             156220 non-null  int64   \n",
      "dtypes: bool(1), category(2), float64(6), int64(6), object(6)\n",
      "memory usage: 21.9+ MB\n"
     ]
    }
   ],
   "source": [
    "df[['Labeler Code', 'Product Code']] = df[['Labeler Code', 'Product Code']].astype('str')\n",
    "df.info()"
   ]
  },
  {
   "cell_type": "markdown",
   "id": "afraid-economy",
   "metadata": {},
   "source": [
    "As can be seen above, `Labeler Code` and `Product Code` are now `object` data types which are also known as `str`."
   ]
  },
  {
   "cell_type": "markdown",
   "id": "interstate-contact",
   "metadata": {},
   "source": [
    "# 3. Post your work on GitHub."
   ]
  },
  {
   "cell_type": "markdown",
   "id": "baking-chassis",
   "metadata": {},
   "source": [
    "This notebook can be found at the following link: https://github.com/buckioh1/Franklin/tree/main/Assignment%205"
   ]
  },
  {
   "cell_type": "markdown",
   "id": "absolute-venue",
   "metadata": {},
   "source": [
    "# 4. Add a README file."
   ]
  },
  {
   "cell_type": "markdown",
   "id": "acute-memorabilia",
   "metadata": {},
   "source": [
    "The README file can be found here: https://github.com/buckioh1/Franklin/blob/main/Assignment%205/README.md"
   ]
  }
 ],
 "metadata": {
  "kernelspec": {
   "display_name": "Python 3",
   "language": "python",
   "name": "python3"
  },
  "language_info": {
   "codemirror_mode": {
    "name": "ipython",
    "version": 3
   },
   "file_extension": ".py",
   "mimetype": "text/x-python",
   "name": "python",
   "nbconvert_exporter": "python",
   "pygments_lexer": "ipython3",
   "version": "3.8.8"
  }
 },
 "nbformat": 4,
 "nbformat_minor": 5
}
