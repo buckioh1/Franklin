{
 "cells": [
  {
   "cell_type": "markdown",
   "id": "secure-portuguese",
   "metadata": {},
   "source": [
    "# Assignment 2\n",
    "\n",
    "## DATA 612: Data Mining\n",
    "\n",
    "### Eric Schmidt\n",
    "### Dr. Dr. AbdelRahman"
   ]
  },
  {
   "cell_type": "markdown",
   "id": "failing-ecology",
   "metadata": {},
   "source": [
    "# Load the dataset for this assignment."
   ]
  },
  {
   "cell_type": "code",
   "execution_count": null,
   "id": "authorized-professor",
   "metadata": {},
   "outputs": [],
   "source": [
    "import pandas as pd\n",
    "\n",
    "# Load the csv file to a dataframe.\n",
    "df = pd.read_csv(\"https://raw.githubusercontent.com/buckioh1/data_612/master/baseballdatabank-master/core/Teams.csv\",\n",
    "                sep = ',')"
   ]
  },
  {
   "cell_type": "code",
   "execution_count": null,
   "id": "intimate-title",
   "metadata": {},
   "outputs": [],
   "source": [
    "df.head()"
   ]
  },
  {
   "cell_type": "markdown",
   "id": "therapeutic-hamilton",
   "metadata": {},
   "source": [
    "# 1. Find the maximum date of your data."
   ]
  },
  {
   "cell_type": "code",
   "execution_count": null,
   "id": "industrial-austin",
   "metadata": {},
   "outputs": [],
   "source": [
    "# First, let's determine the features and data types.\n",
    "\n",
    "df.info()"
   ]
  },
  {
   "cell_type": "markdown",
   "id": "terminal-timber",
   "metadata": {},
   "source": [
    "From the above data, we can see only Column 0 is a Date field, but is assigned the data type `int64`. We will need to change the data type from `int64` to `datetime64[ns]`."
   ]
  },
  {
   "cell_type": "code",
   "execution_count": null,
   "id": "communist-webmaster",
   "metadata": {},
   "outputs": [],
   "source": [
    "# Assign 'yearID' feature a new data type using pd.to_datetime function.\n",
    "df['yearID'] = pd.to_datetime(df['yearID'], format= '%Y')\n",
    "\n",
    "# Confirm to_datetime worked as desired.\n",
    "df['yearID']"
   ]
  },
  {
   "cell_type": "markdown",
   "id": "promotional-return",
   "metadata": {},
   "source": [
    "Now that we have the `yearID` attribute assigned to the correct data type, we can use statistical analysis on this field."
   ]
  },
  {
   "cell_type": "code",
   "execution_count": null,
   "id": "whole-handling",
   "metadata": {},
   "outputs": [],
   "source": [
    "# Create new attribute that assigns the maximum date to each row.\n",
    "df['yearID_max'] = df['yearID'].max()\n",
    "\n",
    "# Display the max date and row date.\n",
    "df[['yearID_max', 'yearID']]"
   ]
  },
  {
   "cell_type": "markdown",
   "id": "precise-projection",
   "metadata": {},
   "source": [
    "# 2. Subtract all the dates on the column from the maximum date."
   ]
  },
  {
   "cell_type": "code",
   "execution_count": null,
   "id": "minute-transaction",
   "metadata": {},
   "outputs": [],
   "source": [
    "# Calculate the difference between the row date and the max date.\n",
    "df['yearID_diff'] = df['yearID_max'] - df['yearID']\n",
    "\n",
    "# Display the date difference.\n",
    "df[['yearID_diff', 'yearID', 'yearID_max']]"
   ]
  },
  {
   "cell_type": "markdown",
   "id": "atlantic-moisture",
   "metadata": {},
   "source": [
    "# 3. Convert the number of days into number of months."
   ]
  },
  {
   "cell_type": "code",
   "execution_count": null,
   "id": "spare-warren",
   "metadata": {},
   "outputs": [],
   "source": [
    "import numpy as np\n",
    "\n",
    "# Assign 'months' feature a new data type using np.timedelta64 function.\n",
    "months = (df['yearID_max'] - df['yearID']) / np.timedelta64(1, 'M')\n",
    "months"
   ]
  },
  {
   "cell_type": "markdown",
   "id": "toxic-bradley",
   "metadata": {},
   "source": [
    "# 4. Save the result on a new column and add to the data set."
   ]
  },
  {
   "cell_type": "code",
   "execution_count": null,
   "id": "affecting-collaboration",
   "metadata": {},
   "outputs": [],
   "source": [
    "# Assign series to dataframe.\n",
    "df['months'] = months\n",
    "df['months']"
   ]
  },
  {
   "cell_type": "markdown",
   "id": "hearing-spiritual",
   "metadata": {},
   "source": [
    "# 5. Save the dataset as a csv file."
   ]
  },
  {
   "cell_type": "code",
   "execution_count": null,
   "id": "varied-closure",
   "metadata": {},
   "outputs": [],
   "source": [
    "# Write the new dataframe as a csv file.\n",
    "\n",
    "df.to_csv('Baseball_Data_Bank_Master_Teams.csv', index= False)"
   ]
  },
  {
   "cell_type": "markdown",
   "id": "increased-interview",
   "metadata": {},
   "source": [
    "# 6. Upload the assignment on your GitHub account and update the README file where you explain everything you did."
   ]
  },
  {
   "cell_type": "markdown",
   "id": "convenient-hormone",
   "metadata": {},
   "source": [
    "Please find the location of this .ipynb <a href=\"https://github.com/buckioh1/Franklin/tree/main/Assignment%202\">here.</a>\n",
    "\n",
    "The README file can be found <a href=\"https://github.com/buckioh1/Franklin/blob/main/Assignment%202/README.md\">here.</a>"
   ]
  }
 ],
 "metadata": {
  "kernelspec": {
   "display_name": "Python 3",
   "language": "python",
   "name": "python3"
  },
  "language_info": {
   "codemirror_mode": {
    "name": "ipython",
    "version": 3
   },
   "file_extension": ".py",
   "mimetype": "text/x-python",
   "name": "python",
   "nbconvert_exporter": "python",
   "pygments_lexer": "ipython3",
   "version": "3.8.8"
  }
 },
 "nbformat": 4,
 "nbformat_minor": 5
}
